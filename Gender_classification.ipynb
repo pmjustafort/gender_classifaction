{
 "cells": [
  {
   "cell_type": "markdown",
   "metadata": {},
   "source": [
    "### Overview"
   ]
  },
  {
   "cell_type": "markdown",
   "metadata": {},
   "source": [
    "### Imports"
   ]
  },
  {
   "cell_type": "code",
   "execution_count": 1,
   "metadata": {},
   "outputs": [],
   "source": [
    "import pandas as pd\n",
    "import numpy as np\n",
    "import matplotlib.pyplot as plt\n",
    "import seaborn as sns\n",
    "\n",
    "from wordcloud import WordCloud\n",
    "import matplotlib.pyplot as plt\n",
    "\n",
    "from nltk.tokenize import word_tokenize\n",
    "from nltk.corpus import stopwords\n",
    "from nltk.stem import WordNetLemmatizer\n",
    "import re\n",
    "\n",
    "from sklearn.feature_extraction.text import TfidfVectorizer\n",
    "\n",
    "from textblob import TextBlob\n",
    "\n",
    "from sklearn.model_selection import train_test_split\n",
    "from sklearn.linear_model import LogisticRegression\n",
    "from sklearn.metrics import accuracy_score, classification_report\n",
    "\n",
    "from sklearn.naive_bayes import MultinomialNB\n",
    "from sklearn.ensemble import RandomForestClassifier\n",
    "from sklearn.svm import SVC\n",
    "from sklearn.ensemble import GradientBoostingClassifier"
   ]
  },
  {
   "cell_type": "code",
   "execution_count": 2,
   "metadata": {},
   "outputs": [
    {
     "name": "stdout",
     "output_type": "stream",
     "text": [
      "Requirement already up-to-date: numpy in /Users/pmjustafort/anaconda3/envs/learn-env/lib/python3.8/site-packages (1.24.4)\n",
      "Requirement already up-to-date: scikit-learn in /Users/pmjustafort/anaconda3/envs/learn-env/lib/python3.8/site-packages (1.3.1)\n",
      "Requirement already satisfied, skipping upgrade: scipy>=1.5.0 in /Users/pmjustafort/anaconda3/envs/learn-env/lib/python3.8/site-packages (from scikit-learn) (1.10.1)\n",
      "Requirement already satisfied, skipping upgrade: joblib>=1.1.1 in /Users/pmjustafort/anaconda3/envs/learn-env/lib/python3.8/site-packages (from scikit-learn) (1.3.2)\n",
      "Requirement already satisfied, skipping upgrade: threadpoolctl>=2.0.0 in /Users/pmjustafort/anaconda3/envs/learn-env/lib/python3.8/site-packages (from scikit-learn) (2.1.0)\n",
      "Note: you may need to restart the kernel to use updated packages.\n"
     ]
    }
   ],
   "source": [
    "pip install --upgrade numpy scikit-learn"
   ]
  },
  {
   "cell_type": "code",
   "execution_count": 3,
   "metadata": {},
   "outputs": [
    {
     "name": "stdout",
     "output_type": "stream",
     "text": [
      "Requirement already satisfied: textblob in /Users/pmjustafort/anaconda3/envs/learn-env/lib/python3.8/site-packages (0.17.1)\n",
      "Requirement already satisfied: nltk>=3.1; python_version >= \"3\" in /Users/pmjustafort/anaconda3/envs/learn-env/lib/python3.8/site-packages (from textblob) (3.5)\n",
      "Requirement already satisfied: click in /Users/pmjustafort/anaconda3/envs/learn-env/lib/python3.8/site-packages (from nltk>=3.1; python_version >= \"3\"->textblob) (7.1.2)\n",
      "Requirement already satisfied: joblib in /Users/pmjustafort/anaconda3/envs/learn-env/lib/python3.8/site-packages (from nltk>=3.1; python_version >= \"3\"->textblob) (1.3.2)\n",
      "Requirement already satisfied: regex in /Users/pmjustafort/anaconda3/envs/learn-env/lib/python3.8/site-packages (from nltk>=3.1; python_version >= \"3\"->textblob) (2020.10.11)\n",
      "Requirement already satisfied: tqdm in /Users/pmjustafort/anaconda3/envs/learn-env/lib/python3.8/site-packages (from nltk>=3.1; python_version >= \"3\"->textblob) (4.50.2)\n"
     ]
    }
   ],
   "source": [
    "!pip install textblob"
   ]
  },
  {
   "cell_type": "markdown",
   "metadata": {},
   "source": [
    "### Exploratory Data Analysis "
   ]
  },
  {
   "cell_type": "code",
   "execution_count": 4,
   "metadata": {},
   "outputs": [],
   "source": [
    "gender_df = pd.read_csv('gender_classifier_dfe.csv')"
   ]
  },
  {
   "cell_type": "code",
   "execution_count": 5,
   "metadata": {},
   "outputs": [
    {
     "data": {
      "text/html": [
       "<div>\n",
       "<style scoped>\n",
       "    .dataframe tbody tr th:only-of-type {\n",
       "        vertical-align: middle;\n",
       "    }\n",
       "\n",
       "    .dataframe tbody tr th {\n",
       "        vertical-align: top;\n",
       "    }\n",
       "\n",
       "    .dataframe thead th {\n",
       "        text-align: right;\n",
       "    }\n",
       "</style>\n",
       "<table border=\"1\" class=\"dataframe\">\n",
       "  <thead>\n",
       "    <tr style=\"text-align: right;\">\n",
       "      <th></th>\n",
       "      <th>unit_id</th>\n",
       "      <th>golden</th>\n",
       "      <th>unit_state</th>\n",
       "      <th>trusted_judgments</th>\n",
       "      <th>last_judgment_at</th>\n",
       "      <th>gender</th>\n",
       "      <th>gender_confidence</th>\n",
       "      <th>profile_yn</th>\n",
       "      <th>profile_yn_confidence</th>\n",
       "      <th>created</th>\n",
       "      <th>...</th>\n",
       "      <th>profileimage</th>\n",
       "      <th>retweet_count</th>\n",
       "      <th>sidebar_color</th>\n",
       "      <th>text</th>\n",
       "      <th>tweet_coord</th>\n",
       "      <th>tweet_count</th>\n",
       "      <th>tweet_created</th>\n",
       "      <th>tweet_id</th>\n",
       "      <th>tweet_location</th>\n",
       "      <th>user_timezone</th>\n",
       "    </tr>\n",
       "  </thead>\n",
       "  <tbody>\n",
       "    <tr>\n",
       "      <th>0</th>\n",
       "      <td>815719226</td>\n",
       "      <td>False</td>\n",
       "      <td>finalized</td>\n",
       "      <td>3</td>\n",
       "      <td>2015-10-26T23:24:00</td>\n",
       "      <td>male</td>\n",
       "      <td>1.0000</td>\n",
       "      <td>True</td>\n",
       "      <td>1.0</td>\n",
       "      <td>2013-12-05T01:48:00</td>\n",
       "      <td>...</td>\n",
       "      <td>https://pbs.twimg.com/profile_images/414342229...</td>\n",
       "      <td>0</td>\n",
       "      <td>FFFFFF</td>\n",
       "      <td>Robbie E Responds To Critics After Win Against...</td>\n",
       "      <td>NaN</td>\n",
       "      <td>110964</td>\n",
       "      <td>2015-10-26T12:40:00</td>\n",
       "      <td>658730000000000000</td>\n",
       "      <td>main; @Kan1shk3</td>\n",
       "      <td>Chennai</td>\n",
       "    </tr>\n",
       "    <tr>\n",
       "      <th>1</th>\n",
       "      <td>815719227</td>\n",
       "      <td>False</td>\n",
       "      <td>finalized</td>\n",
       "      <td>3</td>\n",
       "      <td>2015-10-26T23:30:00</td>\n",
       "      <td>male</td>\n",
       "      <td>1.0000</td>\n",
       "      <td>True</td>\n",
       "      <td>1.0</td>\n",
       "      <td>2012-10-01T13:51:00</td>\n",
       "      <td>...</td>\n",
       "      <td>https://pbs.twimg.com/profile_images/539604221...</td>\n",
       "      <td>0</td>\n",
       "      <td>C0DEED</td>\n",
       "      <td>���It felt like they were my friends and I was...</td>\n",
       "      <td>NaN</td>\n",
       "      <td>7471</td>\n",
       "      <td>2015-10-26T12:40:00</td>\n",
       "      <td>658730000000000000</td>\n",
       "      <td>NaN</td>\n",
       "      <td>Eastern Time (US &amp; Canada)</td>\n",
       "    </tr>\n",
       "    <tr>\n",
       "      <th>2</th>\n",
       "      <td>815719228</td>\n",
       "      <td>False</td>\n",
       "      <td>finalized</td>\n",
       "      <td>3</td>\n",
       "      <td>2015-10-26T23:33:00</td>\n",
       "      <td>male</td>\n",
       "      <td>0.6625</td>\n",
       "      <td>True</td>\n",
       "      <td>1.0</td>\n",
       "      <td>2014-11-28T11:30:00</td>\n",
       "      <td>...</td>\n",
       "      <td>https://pbs.twimg.com/profile_images/657330418...</td>\n",
       "      <td>1</td>\n",
       "      <td>C0DEED</td>\n",
       "      <td>i absolutely adore when louis starts the songs...</td>\n",
       "      <td>NaN</td>\n",
       "      <td>5617</td>\n",
       "      <td>2015-10-26T12:40:00</td>\n",
       "      <td>658730000000000000</td>\n",
       "      <td>clcncl</td>\n",
       "      <td>Belgrade</td>\n",
       "    </tr>\n",
       "    <tr>\n",
       "      <th>3</th>\n",
       "      <td>815719229</td>\n",
       "      <td>False</td>\n",
       "      <td>finalized</td>\n",
       "      <td>3</td>\n",
       "      <td>2015-10-26T23:10:00</td>\n",
       "      <td>male</td>\n",
       "      <td>1.0000</td>\n",
       "      <td>True</td>\n",
       "      <td>1.0</td>\n",
       "      <td>2009-06-11T22:39:00</td>\n",
       "      <td>...</td>\n",
       "      <td>https://pbs.twimg.com/profile_images/259703936...</td>\n",
       "      <td>0</td>\n",
       "      <td>C0DEED</td>\n",
       "      <td>Hi @JordanSpieth - Looking at the url - do you...</td>\n",
       "      <td>NaN</td>\n",
       "      <td>1693</td>\n",
       "      <td>2015-10-26T12:40:00</td>\n",
       "      <td>658730000000000000</td>\n",
       "      <td>Palo Alto, CA</td>\n",
       "      <td>Pacific Time (US &amp; Canada)</td>\n",
       "    </tr>\n",
       "    <tr>\n",
       "      <th>4</th>\n",
       "      <td>815719230</td>\n",
       "      <td>False</td>\n",
       "      <td>finalized</td>\n",
       "      <td>3</td>\n",
       "      <td>2015-10-27T01:15:00</td>\n",
       "      <td>female</td>\n",
       "      <td>1.0000</td>\n",
       "      <td>True</td>\n",
       "      <td>1.0</td>\n",
       "      <td>2014-04-16T13:23:00</td>\n",
       "      <td>...</td>\n",
       "      <td>https://pbs.twimg.com/profile_images/564094871...</td>\n",
       "      <td>0</td>\n",
       "      <td>0</td>\n",
       "      <td>Watching Neighbours on Sky+ catching up with t...</td>\n",
       "      <td>NaN</td>\n",
       "      <td>31462</td>\n",
       "      <td>2015-10-26T12:40:00</td>\n",
       "      <td>658730000000000000</td>\n",
       "      <td>NaN</td>\n",
       "      <td>NaN</td>\n",
       "    </tr>\n",
       "  </tbody>\n",
       "</table>\n",
       "<p>5 rows × 26 columns</p>\n",
       "</div>"
      ],
      "text/plain": [
       "     unit_id  golden unit_state  trusted_judgments     last_judgment_at  \\\n",
       "0  815719226   False  finalized                  3  2015-10-26T23:24:00   \n",
       "1  815719227   False  finalized                  3  2015-10-26T23:30:00   \n",
       "2  815719228   False  finalized                  3  2015-10-26T23:33:00   \n",
       "3  815719229   False  finalized                  3  2015-10-26T23:10:00   \n",
       "4  815719230   False  finalized                  3  2015-10-27T01:15:00   \n",
       "\n",
       "   gender  gender_confidence  profile_yn  profile_yn_confidence  \\\n",
       "0    male             1.0000        True                    1.0   \n",
       "1    male             1.0000        True                    1.0   \n",
       "2    male             0.6625        True                    1.0   \n",
       "3    male             1.0000        True                    1.0   \n",
       "4  female             1.0000        True                    1.0   \n",
       "\n",
       "               created  ...  \\\n",
       "0  2013-12-05T01:48:00  ...   \n",
       "1  2012-10-01T13:51:00  ...   \n",
       "2  2014-11-28T11:30:00  ...   \n",
       "3  2009-06-11T22:39:00  ...   \n",
       "4  2014-04-16T13:23:00  ...   \n",
       "\n",
       "                                        profileimage  retweet_count  \\\n",
       "0  https://pbs.twimg.com/profile_images/414342229...              0   \n",
       "1  https://pbs.twimg.com/profile_images/539604221...              0   \n",
       "2  https://pbs.twimg.com/profile_images/657330418...              1   \n",
       "3  https://pbs.twimg.com/profile_images/259703936...              0   \n",
       "4  https://pbs.twimg.com/profile_images/564094871...              0   \n",
       "\n",
       "  sidebar_color                                               text  \\\n",
       "0        FFFFFF  Robbie E Responds To Critics After Win Against...   \n",
       "1        C0DEED  ���It felt like they were my friends and I was...   \n",
       "2        C0DEED  i absolutely adore when louis starts the songs...   \n",
       "3        C0DEED  Hi @JordanSpieth - Looking at the url - do you...   \n",
       "4             0  Watching Neighbours on Sky+ catching up with t...   \n",
       "\n",
       "  tweet_coord tweet_count        tweet_created            tweet_id  \\\n",
       "0         NaN      110964  2015-10-26T12:40:00  658730000000000000   \n",
       "1         NaN        7471  2015-10-26T12:40:00  658730000000000000   \n",
       "2         NaN        5617  2015-10-26T12:40:00  658730000000000000   \n",
       "3         NaN        1693  2015-10-26T12:40:00  658730000000000000   \n",
       "4         NaN       31462  2015-10-26T12:40:00  658730000000000000   \n",
       "\n",
       "    tweet_location               user_timezone  \n",
       "0  main; @Kan1shk3                     Chennai  \n",
       "1              NaN  Eastern Time (US & Canada)  \n",
       "2           clcncl                    Belgrade  \n",
       "3    Palo Alto, CA  Pacific Time (US & Canada)  \n",
       "4              NaN                         NaN  \n",
       "\n",
       "[5 rows x 26 columns]"
      ]
     },
     "execution_count": 5,
     "metadata": {},
     "output_type": "execute_result"
    }
   ],
   "source": [
    "gender_df.head()"
   ]
  },
  {
   "cell_type": "code",
   "execution_count": 6,
   "metadata": {},
   "outputs": [
    {
     "name": "stdout",
     "output_type": "stream",
     "text": [
      "<class 'pandas.core.frame.DataFrame'>\n",
      "RangeIndex: 20050 entries, 0 to 20049\n",
      "Data columns (total 26 columns):\n",
      " #   Column                 Non-Null Count  Dtype  \n",
      "---  ------                 --------------  -----  \n",
      " 0   unit_id                20050 non-null  int64  \n",
      " 1   golden                 20050 non-null  bool   \n",
      " 2   unit_state             20050 non-null  object \n",
      " 3   trusted_judgments      20050 non-null  int64  \n",
      " 4   last_judgment_at       20000 non-null  object \n",
      " 5   gender                 19953 non-null  object \n",
      " 6   gender_confidence      20024 non-null  float64\n",
      " 7   profile_yn             20050 non-null  bool   \n",
      " 8   profile_yn_confidence  20050 non-null  float64\n",
      " 9   created                20050 non-null  object \n",
      " 10  description            16306 non-null  object \n",
      " 11  fav_number             20050 non-null  int64  \n",
      " 12  gender_gold            50 non-null     object \n",
      " 13  link_color             20050 non-null  object \n",
      " 14  name                   20050 non-null  object \n",
      " 15  profile_yn_gold        50 non-null     object \n",
      " 16  profileimage           20050 non-null  object \n",
      " 17  retweet_count          20050 non-null  int64  \n",
      " 18  sidebar_color          20050 non-null  object \n",
      " 19  text                   20050 non-null  object \n",
      " 20  tweet_coord            159 non-null    object \n",
      " 21  tweet_count            20050 non-null  int64  \n",
      " 22  tweet_created          20050 non-null  object \n",
      " 23  tweet_id               20050 non-null  int64  \n",
      " 24  tweet_location         12558 non-null  object \n",
      " 25  user_timezone          12252 non-null  object \n",
      "dtypes: bool(2), float64(2), int64(6), object(16)\n",
      "memory usage: 3.7+ MB\n"
     ]
    }
   ],
   "source": [
    "gender_df.info()"
   ]
  },
  {
   "cell_type": "code",
   "execution_count": 7,
   "metadata": {},
   "outputs": [
    {
     "data": {
      "text/html": [
       "<div>\n",
       "<style scoped>\n",
       "    .dataframe tbody tr th:only-of-type {\n",
       "        vertical-align: middle;\n",
       "    }\n",
       "\n",
       "    .dataframe tbody tr th {\n",
       "        vertical-align: top;\n",
       "    }\n",
       "\n",
       "    .dataframe thead th {\n",
       "        text-align: right;\n",
       "    }\n",
       "</style>\n",
       "<table border=\"1\" class=\"dataframe\">\n",
       "  <thead>\n",
       "    <tr style=\"text-align: right;\">\n",
       "      <th></th>\n",
       "      <th>unit_id</th>\n",
       "      <th>trusted_judgments</th>\n",
       "      <th>gender_confidence</th>\n",
       "      <th>profile_yn_confidence</th>\n",
       "      <th>fav_number</th>\n",
       "      <th>retweet_count</th>\n",
       "      <th>tweet_count</th>\n",
       "      <th>tweet_id</th>\n",
       "    </tr>\n",
       "  </thead>\n",
       "  <tbody>\n",
       "    <tr>\n",
       "      <th>count</th>\n",
       "      <td>2.005000e+04</td>\n",
       "      <td>20050.000000</td>\n",
       "      <td>20024.000000</td>\n",
       "      <td>20050.000000</td>\n",
       "      <td>20050.000000</td>\n",
       "      <td>20050.000000</td>\n",
       "      <td>2.005000e+04</td>\n",
       "      <td>2.005000e+04</td>\n",
       "    </tr>\n",
       "    <tr>\n",
       "      <th>mean</th>\n",
       "      <td>8.157294e+08</td>\n",
       "      <td>3.615711</td>\n",
       "      <td>0.882756</td>\n",
       "      <td>0.993221</td>\n",
       "      <td>4382.201646</td>\n",
       "      <td>0.079401</td>\n",
       "      <td>3.892469e+04</td>\n",
       "      <td>6.587350e+17</td>\n",
       "    </tr>\n",
       "    <tr>\n",
       "      <th>std</th>\n",
       "      <td>6.000801e+03</td>\n",
       "      <td>12.331890</td>\n",
       "      <td>0.191403</td>\n",
       "      <td>0.047168</td>\n",
       "      <td>12518.575919</td>\n",
       "      <td>2.649751</td>\n",
       "      <td>1.168371e+05</td>\n",
       "      <td>5.000124e+12</td>\n",
       "    </tr>\n",
       "    <tr>\n",
       "      <th>min</th>\n",
       "      <td>8.157192e+08</td>\n",
       "      <td>3.000000</td>\n",
       "      <td>0.000000</td>\n",
       "      <td>0.627200</td>\n",
       "      <td>0.000000</td>\n",
       "      <td>0.000000</td>\n",
       "      <td>1.000000e+00</td>\n",
       "      <td>6.587300e+17</td>\n",
       "    </tr>\n",
       "    <tr>\n",
       "      <th>25%</th>\n",
       "      <td>8.157243e+08</td>\n",
       "      <td>3.000000</td>\n",
       "      <td>0.677800</td>\n",
       "      <td>1.000000</td>\n",
       "      <td>11.000000</td>\n",
       "      <td>0.000000</td>\n",
       "      <td>2.398000e+03</td>\n",
       "      <td>6.587300e+17</td>\n",
       "    </tr>\n",
       "    <tr>\n",
       "      <th>50%</th>\n",
       "      <td>8.157294e+08</td>\n",
       "      <td>3.000000</td>\n",
       "      <td>1.000000</td>\n",
       "      <td>1.000000</td>\n",
       "      <td>456.000000</td>\n",
       "      <td>0.000000</td>\n",
       "      <td>1.144150e+04</td>\n",
       "      <td>6.587300e+17</td>\n",
       "    </tr>\n",
       "    <tr>\n",
       "      <th>75%</th>\n",
       "      <td>8.157345e+08</td>\n",
       "      <td>3.000000</td>\n",
       "      <td>1.000000</td>\n",
       "      <td>1.000000</td>\n",
       "      <td>3315.500000</td>\n",
       "      <td>0.000000</td>\n",
       "      <td>4.002750e+04</td>\n",
       "      <td>6.587400e+17</td>\n",
       "    </tr>\n",
       "    <tr>\n",
       "      <th>max</th>\n",
       "      <td>8.157580e+08</td>\n",
       "      <td>274.000000</td>\n",
       "      <td>1.000000</td>\n",
       "      <td>1.000000</td>\n",
       "      <td>341621.000000</td>\n",
       "      <td>330.000000</td>\n",
       "      <td>2.680199e+06</td>\n",
       "      <td>6.587400e+17</td>\n",
       "    </tr>\n",
       "  </tbody>\n",
       "</table>\n",
       "</div>"
      ],
      "text/plain": [
       "            unit_id  trusted_judgments  gender_confidence  \\\n",
       "count  2.005000e+04       20050.000000       20024.000000   \n",
       "mean   8.157294e+08           3.615711           0.882756   \n",
       "std    6.000801e+03          12.331890           0.191403   \n",
       "min    8.157192e+08           3.000000           0.000000   \n",
       "25%    8.157243e+08           3.000000           0.677800   \n",
       "50%    8.157294e+08           3.000000           1.000000   \n",
       "75%    8.157345e+08           3.000000           1.000000   \n",
       "max    8.157580e+08         274.000000           1.000000   \n",
       "\n",
       "       profile_yn_confidence     fav_number  retweet_count   tweet_count  \\\n",
       "count           20050.000000   20050.000000   20050.000000  2.005000e+04   \n",
       "mean                0.993221    4382.201646       0.079401  3.892469e+04   \n",
       "std                 0.047168   12518.575919       2.649751  1.168371e+05   \n",
       "min                 0.627200       0.000000       0.000000  1.000000e+00   \n",
       "25%                 1.000000      11.000000       0.000000  2.398000e+03   \n",
       "50%                 1.000000     456.000000       0.000000  1.144150e+04   \n",
       "75%                 1.000000    3315.500000       0.000000  4.002750e+04   \n",
       "max                 1.000000  341621.000000     330.000000  2.680199e+06   \n",
       "\n",
       "           tweet_id  \n",
       "count  2.005000e+04  \n",
       "mean   6.587350e+17  \n",
       "std    5.000124e+12  \n",
       "min    6.587300e+17  \n",
       "25%    6.587300e+17  \n",
       "50%    6.587300e+17  \n",
       "75%    6.587400e+17  \n",
       "max    6.587400e+17  "
      ]
     },
     "execution_count": 7,
     "metadata": {},
     "output_type": "execute_result"
    }
   ],
   "source": [
    "gender_df.describe()"
   ]
  },
  {
   "cell_type": "markdown",
   "metadata": {},
   "source": []
  },
  {
   "cell_type": "markdown",
   "metadata": {},
   "source": [
    "#### Data Simplication"
   ]
  },
  {
   "cell_type": "markdown",
   "metadata": {},
   "source": [
    "Will simplify the dataset by retaining only the relevants columns for Natural Language Processing, which will be the text column which contains the tweet content and the gender column which will be our target variable."
   ]
  },
  {
   "cell_type": "code",
   "execution_count": 8,
   "metadata": {},
   "outputs": [
    {
     "data": {
      "text/html": [
       "<div>\n",
       "<style scoped>\n",
       "    .dataframe tbody tr th:only-of-type {\n",
       "        vertical-align: middle;\n",
       "    }\n",
       "\n",
       "    .dataframe tbody tr th {\n",
       "        vertical-align: top;\n",
       "    }\n",
       "\n",
       "    .dataframe thead th {\n",
       "        text-align: right;\n",
       "    }\n",
       "</style>\n",
       "<table border=\"1\" class=\"dataframe\">\n",
       "  <thead>\n",
       "    <tr style=\"text-align: right;\">\n",
       "      <th></th>\n",
       "      <th>text</th>\n",
       "      <th>gender</th>\n",
       "    </tr>\n",
       "  </thead>\n",
       "  <tbody>\n",
       "    <tr>\n",
       "      <th>0</th>\n",
       "      <td>Robbie E Responds To Critics After Win Against...</td>\n",
       "      <td>male</td>\n",
       "    </tr>\n",
       "    <tr>\n",
       "      <th>1</th>\n",
       "      <td>���It felt like they were my friends and I was...</td>\n",
       "      <td>male</td>\n",
       "    </tr>\n",
       "    <tr>\n",
       "      <th>2</th>\n",
       "      <td>i absolutely adore when louis starts the songs...</td>\n",
       "      <td>male</td>\n",
       "    </tr>\n",
       "    <tr>\n",
       "      <th>3</th>\n",
       "      <td>Hi @JordanSpieth - Looking at the url - do you...</td>\n",
       "      <td>male</td>\n",
       "    </tr>\n",
       "    <tr>\n",
       "      <th>4</th>\n",
       "      <td>Watching Neighbours on Sky+ catching up with t...</td>\n",
       "      <td>female</td>\n",
       "    </tr>\n",
       "  </tbody>\n",
       "</table>\n",
       "</div>"
      ],
      "text/plain": [
       "                                                text  gender\n",
       "0  Robbie E Responds To Critics After Win Against...    male\n",
       "1  ���It felt like they were my friends and I was...    male\n",
       "2  i absolutely adore when louis starts the songs...    male\n",
       "3  Hi @JordanSpieth - Looking at the url - do you...    male\n",
       "4  Watching Neighbours on Sky+ catching up with t...  female"
      ]
     },
     "execution_count": 8,
     "metadata": {},
     "output_type": "execute_result"
    }
   ],
   "source": [
    "gender = gender_df[['text','gender']]\n",
    "gender.head()"
   ]
  },
  {
   "cell_type": "markdown",
   "metadata": {},
   "source": [
    "#### Distribution of Gender"
   ]
  },
  {
   "cell_type": "code",
   "execution_count": 9,
   "metadata": {},
   "outputs": [
    {
     "data": {
      "image/png": "[encoded data removed]",
      "text/plain": [
       "<Figure size 432x288 with 1 Axes>"
      ]
     },
     "metadata": {
      "needs_background": "light"
     },
     "output_type": "display_data"
    }
   ],
   "source": [
    "gender['gender'].value_counts().plot(kind='bar')\n",
    "plt.title('Gender Distribution')\n",
    "plt.ylabel('Count')\n",
    "plt.xlabel('Gender')\n",
    "plt.show()"
   ]
  },
  {
   "cell_type": "code",
   "execution_count": 10,
   "metadata": {},
   "outputs": [
    {
     "data": {
      "text/plain": [
       "gender\n",
       "female     6700\n",
       "male       6194\n",
       "brand      5942\n",
       "unknown    1117\n",
       "Name: count, dtype: int64"
      ]
     },
     "execution_count": 10,
     "metadata": {},
     "output_type": "execute_result"
    }
   ],
   "source": [
    "gender['gender'].value_counts()"
   ]
  },
  {
   "cell_type": "markdown",
   "metadata": {},
   "source": [
    "Upon an initial exploration, we identified four distinct categories within the gender column:\n",
    "\n",
    "- Female: 6,700 entries\n",
    "- Male: 6,194 entries\n",
    "- Brand: 5,942 entries\n",
    "- Unknown: 1,117 entries\n",
    "\n",
    "As our primary objective is to build a model that predicts gender based on the tweet content. With this in mind we will filter our dataset to keep only the two classes (famle and male)."
   ]
  },
  {
   "cell_type": "code",
   "execution_count": 11,
   "metadata": {},
   "outputs": [],
   "source": [
    "gender_filtered = gender[(gender['gender'] == 'male') | (gender['gender'] == 'female')]"
   ]
  },
  {
   "cell_type": "code",
   "execution_count": 12,
   "metadata": {},
   "outputs": [
    {
     "data": {
      "text/html": [
       "<div>\n",
       "<style scoped>\n",
       "    .dataframe tbody tr th:only-of-type {\n",
       "        vertical-align: middle;\n",
       "    }\n",
       "\n",
       "    .dataframe tbody tr th {\n",
       "        vertical-align: top;\n",
       "    }\n",
       "\n",
       "    .dataframe thead th {\n",
       "        text-align: right;\n",
       "    }\n",
       "</style>\n",
       "<table border=\"1\" class=\"dataframe\">\n",
       "  <thead>\n",
       "    <tr style=\"text-align: right;\">\n",
       "      <th></th>\n",
       "      <th>text</th>\n",
       "      <th>gender</th>\n",
       "    </tr>\n",
       "  </thead>\n",
       "  <tbody>\n",
       "    <tr>\n",
       "      <th>0</th>\n",
       "      <td>Robbie E Responds To Critics After Win Against...</td>\n",
       "      <td>male</td>\n",
       "    </tr>\n",
       "    <tr>\n",
       "      <th>1</th>\n",
       "      <td>���It felt like they were my friends and I was...</td>\n",
       "      <td>male</td>\n",
       "    </tr>\n",
       "    <tr>\n",
       "      <th>2</th>\n",
       "      <td>i absolutely adore when louis starts the songs...</td>\n",
       "      <td>male</td>\n",
       "    </tr>\n",
       "    <tr>\n",
       "      <th>3</th>\n",
       "      <td>Hi @JordanSpieth - Looking at the url - do you...</td>\n",
       "      <td>male</td>\n",
       "    </tr>\n",
       "    <tr>\n",
       "      <th>4</th>\n",
       "      <td>Watching Neighbours on Sky+ catching up with t...</td>\n",
       "      <td>female</td>\n",
       "    </tr>\n",
       "    <tr>\n",
       "      <th>...</th>\n",
       "      <td>...</td>\n",
       "      <td>...</td>\n",
       "    </tr>\n",
       "    <tr>\n",
       "      <th>20045</th>\n",
       "      <td>@lookupondeath ...Fine, and I'll drink tea too...</td>\n",
       "      <td>female</td>\n",
       "    </tr>\n",
       "    <tr>\n",
       "      <th>20046</th>\n",
       "      <td>Greg Hardy you a good player and all but don't...</td>\n",
       "      <td>male</td>\n",
       "    </tr>\n",
       "    <tr>\n",
       "      <th>20047</th>\n",
       "      <td>You can miss people and still never want to se...</td>\n",
       "      <td>male</td>\n",
       "    </tr>\n",
       "    <tr>\n",
       "      <th>20048</th>\n",
       "      <td>@bitemyapp i had noticed your tendency to pee ...</td>\n",
       "      <td>female</td>\n",
       "    </tr>\n",
       "    <tr>\n",
       "      <th>20049</th>\n",
       "      <td>I think for my APUSH creative project I'm goin...</td>\n",
       "      <td>female</td>\n",
       "    </tr>\n",
       "  </tbody>\n",
       "</table>\n",
       "<p>12894 rows × 2 columns</p>\n",
       "</div>"
      ],
      "text/plain": [
       "                                                    text  gender\n",
       "0      Robbie E Responds To Critics After Win Against...    male\n",
       "1      ���It felt like they were my friends and I was...    male\n",
       "2      i absolutely adore when louis starts the songs...    male\n",
       "3      Hi @JordanSpieth - Looking at the url - do you...    male\n",
       "4      Watching Neighbours on Sky+ catching up with t...  female\n",
       "...                                                  ...     ...\n",
       "20045  @lookupondeath ...Fine, and I'll drink tea too...  female\n",
       "20046  Greg Hardy you a good player and all but don't...    male\n",
       "20047  You can miss people and still never want to se...    male\n",
       "20048  @bitemyapp i had noticed your tendency to pee ...  female\n",
       "20049  I think for my APUSH creative project I'm goin...  female\n",
       "\n",
       "[12894 rows x 2 columns]"
      ]
     },
     "execution_count": 12,
     "metadata": {},
     "output_type": "execute_result"
    }
   ],
   "source": [
    "gender_filtered"
   ]
  },
  {
   "cell_type": "code",
   "execution_count": 13,
   "metadata": {},
   "outputs": [
    {
     "data": {
      "image/png": "[encoded data removed]",
      "text/plain": [
       "<Figure size 432x288 with 1 Axes>"
      ]
     },
     "metadata": {
      "needs_background": "light"
     },
     "output_type": "display_data"
    }
   ],
   "source": [
    "gender_filtered['gender'].value_counts().plot(kind='bar')\n",
    "plt.title('Gender Distribution')\n",
    "plt.ylabel('Count')\n",
    "plt.xlabel('gender')\n",
    "plt.show()"
   ]
  },
  {
   "cell_type": "code",
   "execution_count": 14,
   "metadata": {},
   "outputs": [
    {
     "data": {
      "text/plain": [
       "gender\n",
       "female    6700\n",
       "male      6194\n",
       "Name: count, dtype: int64"
      ]
     },
     "execution_count": 14,
     "metadata": {},
     "output_type": "execute_result"
    }
   ],
   "source": [
    "gender_filtered['gender'].value_counts()"
   ]
  },
  {
   "cell_type": "markdown",
   "metadata": {},
   "source": [
    "The dataset is fairly balanced between the female and male classes, which is a good starting point for modeling"
   ]
  },
  {
   "cell_type": "markdown",
   "metadata": {},
   "source": [
    "#### Handling Missing Values"
   ]
  },
  {
   "cell_type": "code",
   "execution_count": 15,
   "metadata": {},
   "outputs": [
    {
     "data": {
      "text/plain": [
       "text      0\n",
       "gender    0\n",
       "dtype: int64"
      ]
     },
     "execution_count": 15,
     "metadata": {},
     "output_type": "execute_result"
    }
   ],
   "source": [
    "#Checking for missing values\n",
    "missing_values = gender_filtered.isnull().sum()\n",
    "missing_values"
   ]
  },
  {
   "cell_type": "markdown",
   "metadata": {},
   "source": [
    "- There are no missing values in the columns.\n"
   ]
  },
  {
   "cell_type": "markdown",
   "metadata": {},
   "source": [
    "#### Tweet Length Analysis"
   ]
  },
  {
   "cell_type": "code",
   "execution_count": 16,
   "metadata": {},
   "outputs": [
    {
     "name": "stderr",
     "output_type": "stream",
     "text": [
      "<ipython-input-16-0745e63c2e83>:1: SettingWithCopyWarning: \n",
      "A value is trying to be set on a copy of a slice from a DataFrame.\n",
      "Try using .loc[row_indexer,col_indexer] = value instead\n",
      "\n",
      "See the caveats in the documentation: https://pandas.pydata.org/pandas-docs/stable/user_guide/indexing.html#returning-a-view-versus-a-copy\n",
      "  gender_filtered.loc[:, 'tweet_length'] = gender_filtered['text'].apply(len)\n"
     ]
    }
   ],
   "source": [
    "gender_filtered.loc[:, 'tweet_length'] = gender_filtered['text'].apply(len)"
   ]
  },
  {
   "cell_type": "code",
   "execution_count": 17,
   "metadata": {},
   "outputs": [
    {
     "name": "stdout",
     "output_type": "stream",
     "text": [
      "count    12894.000000\n",
      "mean        96.746006\n",
      "std         33.790875\n",
      "min          6.000000\n",
      "25%         70.000000\n",
      "50%        100.000000\n",
      "75%        128.000000\n",
      "max        425.000000\n",
      "Name: tweet_length, dtype: float64\n"
     ]
    }
   ],
   "source": [
    "summary_stats = gender_filtered['tweet_length'].describe(percentiles=[.25, .5, .75])\n",
    "print(summary_stats)"
   ]
  },
  {
   "cell_type": "code",
   "execution_count": 18,
   "metadata": {},
   "outputs": [
    {
     "data": {
      "image/png": "[encoded data removed]",
      "text/plain": [
       "<Figure size 1008x576 with 1 Axes>"
      ]
     },
     "metadata": {
      "needs_background": "light"
     },
     "output_type": "display_data"
    }
   ],
   "source": [
    "plt.figure(figsize=(14,8))\n",
    "gender_filtered['tweet_length'].hist(bins=50)\n",
    "plt.title('Tweet Length Distribution')\n",
    "plt.xlabel('Tweet Length')\n",
    "plt.ylabel('Frequency')\n",
    "plt.show()"
   ]
  },
  {
   "cell_type": "markdown",
   "metadata": {},
   "source": [
    "The histogram showcases the distribution of tweet lengths in the gender_filtered dataset. With a total of 12,894 tweets, the majority cluster around the 100-character mark, as signified by the sharp peak in the visualization. This observation aligns with the median tweet length of 100 characters. However, while most tweets are condensed within this range, there are outliers extending up to a substantial 425 characters, significantly above the mean of approximately 96.75 characters. The presence of such outliers, despite not being prominently visible in the histogram, is crucial to note, as they influence the overall data spread, indicated by a standard deviation of 33.79 characters."
   ]
  },
  {
   "cell_type": "markdown",
   "metadata": {},
   "source": [
    "### Text Preprocessing"
   ]
  },
  {
   "cell_type": "markdown",
   "metadata": {},
   "source": [
    "As we delve into the realm of natural language processing (NLP), it's crucial to acknowledge that raw text data often comes with elements that might not be conducive to direct analysis. Such elements can range from stop words—which are common terms that hold minimal semantic value—to special characters, numbers, or even URLs. Moreover, different forms of the same word can introduce unnecessary redundancy, such as \"run\", \"running\", and \"ran\", which fundamentally share a common meaning. To streamline our dataset and maximize its potential for subsequent analysis, we will embark on a series of text preprocessing measures. In the steps ahead, we will tokenize the text, remove stop words, apply lemmatization, and cleanse any unwanted characters or numbers. Through the upcoming code snippets, we will harness the capabilities of the NLTK library and pandas to achieve these objectives."
   ]
  },
  {
   "cell_type": "code",
   "execution_count": 19,
   "metadata": {},
   "outputs": [],
   "source": [
    "gender_filtered = gender_filtered.copy()"
   ]
  },
  {
   "cell_type": "code",
   "execution_count": 20,
   "metadata": {},
   "outputs": [],
   "source": [
    "# Breaking down the text into individual words or tokens.\n",
    "gender_filtered['tokenized'] = gender_filtered['text'].apply(word_tokenize)"
   ]
  },
  {
   "cell_type": "code",
   "execution_count": 21,
   "metadata": {},
   "outputs": [],
   "source": [
    "# Removing commonly occurring words that don't add much meaning to the text.\n",
    "stop_words = set(stopwords.words('english'))\n",
    "\n",
    "gender_filtered['tokenized'] = gender_filtered['tokenized'].apply(lambda x: [word for word in x if word.lower() not in stop_words])"
   ]
  },
  {
   "cell_type": "code",
   "execution_count": 22,
   "metadata": {},
   "outputs": [],
   "source": [
    "# Converting words to their base or root form\n",
    "lemmatizer = WordNetLemmatizer()\n",
    "gender_filtered['lemmatized'] = gender_filtered['tokenized'].apply(lambda x: [lemmatizer.lemmatize(word) for word in x])"
   ]
  },
  {
   "cell_type": "code",
   "execution_count": 23,
   "metadata": {},
   "outputs": [],
   "source": [
    "# Removing Special Characters and Numbers, \n",
    "def clean_text(text):\n",
    "    # Remove URLs\n",
    "    text = re.sub(r\"http\\S+|www\\S+|https\\S+\", '', text, flags=re.MULTILINE)\n",
    "    # Remove numbers and special characters\n",
    "    text = re.sub(r'\\W+', ' ', text)\n",
    "    return text\n",
    "\n",
    "gender_filtered['cleaned'] = gender_filtered['lemmatized'].apply(lambda x: clean_text(' '.join(x)))"
   ]
  },
  {
   "cell_type": "markdown",
   "metadata": {},
   "source": [
    "### Feature Engineering"
   ]
  },
  {
   "cell_type": "markdown",
   "metadata": {},
   "source": [
    "TF-IDF Vectorization"
   ]
  },
  {
   "cell_type": "code",
   "execution_count": 24,
   "metadata": {},
   "outputs": [],
   "source": [
    "# To convert the tweet text into numerical data, we will use the TfidfVectorizer:\n",
    "vectorizer = TfidfVectorizer(max_features=5000) \n",
    "X_tfidf = vectorizer.fit_transform(gender_filtered['text'])"
   ]
  },
  {
   "cell_type": "markdown",
   "metadata": {},
   "source": [
    "Sentiment Analysis"
   ]
  },
  {
   "cell_type": "code",
   "execution_count": 25,
   "metadata": {},
   "outputs": [],
   "source": [
    "# To derive sentiment from the tweet text, we will utilize TextBlob\n",
    "def get_sentiment(text):\n",
    "    analysis = TextBlob(text)\n",
    "    if analysis.sentiment.polarity > 0:\n",
    "        return 'positive'\n",
    "    elif analysis.sentiment.polarity < 0:\n",
    "        return 'negative'\n",
    "    else:\n",
    "        return 'neutral'\n",
    "\n",
    "gender_filtered['sentiment'] = gender_filtered['text'].apply(get_sentiment)"
   ]
  },
  {
   "cell_type": "markdown",
   "metadata": {},
   "source": [
    "### Modeling"
   ]
  },
  {
   "cell_type": "markdown",
   "metadata": {},
   "source": [
    "#### Logistic Regression\n",
    "Logistic Regression is a straightforward and efficient tool for binary classification. Its simplicity makes it a popular choice for establishing a performance benchmark. By using it as our baseline model, we set a foundational standard, allowing us to gauge the efficacy of more advanced models later on."
   ]
  },
  {
   "cell_type": "code",
   "execution_count": 26,
   "metadata": {},
   "outputs": [],
   "source": [
    "# Splitting the data into training and testing set\n",
    "X = X_tfidf\n",
    "y = gender_filtered['gender']\n",
    "\n",
    "X_train, X_test, y_train, y_test = train_test_split(X, y, test_size=0.3, random_state=42)"
   ]
  },
  {
   "cell_type": "code",
   "execution_count": 27,
   "metadata": {},
   "outputs": [
    {
     "data": {
      "text/html": [
       "<style>#sk-container-id-1 {color: black;}#sk-container-id-1 pre{padding: 0;}#sk-container-id-1 div.sk-toggleable {background-color: white;}#sk-container-id-1 label.sk-toggleable__label {cursor: pointer;display: block;width: 100%;margin-bottom: 0;padding: 0.3em;box-sizing: border-box;text-align: center;}#sk-container-id-1 label.sk-toggleable__label-arrow:before {content: \"▸\";float: left;margin-right: 0.25em;color: #696969;}#sk-container-id-1 label.sk-toggleable__label-arrow:hover:before {color: black;}#sk-container-id-1 div.sk-estimator:hover label.sk-toggleable__label-arrow:before {color: black;}#sk-container-id-1 div.sk-toggleable__content {max-height: 0;max-width: 0;overflow: hidden;text-align: left;background-color: #f0f8ff;}#sk-container-id-1 div.sk-toggleable__content pre {margin: 0.2em;color: black;border-radius: 0.25em;background-color: #f0f8ff;}#sk-container-id-1 input.sk-toggleable__control:checked~div.sk-toggleable__content {max-height: 200px;max-width: 100%;overflow: auto;}#sk-container-id-1 input.sk-toggleable__control:checked~label.sk-toggleable__label-arrow:before {content: \"▾\";}#sk-container-id-1 div.sk-estimator input.sk-toggleable__control:checked~label.sk-toggleable__label {background-color: #d4ebff;}#sk-container-id-1 div.sk-label input.sk-toggleable__control:checked~label.sk-toggleable__label {background-color: #d4ebff;}#sk-container-id-1 input.sk-hidden--visually {border: 0;clip: rect(1px 1px 1px 1px);clip: rect(1px, 1px, 1px, 1px);height: 1px;margin: -1px;overflow: hidden;padding: 0;position: absolute;width: 1px;}#sk-container-id-1 div.sk-estimator {font-family: monospace;background-color: #f0f8ff;border: 1px dotted black;border-radius: 0.25em;box-sizing: border-box;margin-bottom: 0.5em;}#sk-container-id-1 div.sk-estimator:hover {background-color: #d4ebff;}#sk-container-id-1 div.sk-parallel-item::after {content: \"\";width: 100%;border-bottom: 1px solid gray;flex-grow: 1;}#sk-container-id-1 div.sk-label:hover label.sk-toggleable__label {background-color: #d4ebff;}#sk-container-id-1 div.sk-serial::before {content: \"\";position: absolute;border-left: 1px solid gray;box-sizing: border-box;top: 0;bottom: 0;left: 50%;z-index: 0;}#sk-container-id-1 div.sk-serial {display: flex;flex-direction: column;align-items: center;background-color: white;padding-right: 0.2em;padding-left: 0.2em;position: relative;}#sk-container-id-1 div.sk-item {position: relative;z-index: 1;}#sk-container-id-1 div.sk-parallel {display: flex;align-items: stretch;justify-content: center;background-color: white;position: relative;}#sk-container-id-1 div.sk-item::before, #sk-container-id-1 div.sk-parallel-item::before {content: \"\";position: absolute;border-left: 1px solid gray;box-sizing: border-box;top: 0;bottom: 0;left: 50%;z-index: -1;}#sk-container-id-1 div.sk-parallel-item {display: flex;flex-direction: column;z-index: 1;position: relative;background-color: white;}#sk-container-id-1 div.sk-parallel-item:first-child::after {align-self: flex-end;width: 50%;}#sk-container-id-1 div.sk-parallel-item:last-child::after {align-self: flex-start;width: 50%;}#sk-container-id-1 div.sk-parallel-item:only-child::after {width: 0;}#sk-container-id-1 div.sk-dashed-wrapped {border: 1px dashed gray;margin: 0 0.4em 0.5em 0.4em;box-sizing: border-box;padding-bottom: 0.4em;background-color: white;}#sk-container-id-1 div.sk-label label {font-family: monospace;font-weight: bold;display: inline-block;line-height: 1.2em;}#sk-container-id-1 div.sk-label-container {text-align: center;}#sk-container-id-1 div.sk-container {/* jupyter's `normalize.less` sets `[hidden] { display: none; }` but bootstrap.min.css set `[hidden] { display: none !important; }` so we also need the `!important` here to be able to override the default hidden behavior on the sphinx rendered scikit-learn.org. See: https://github.com/scikit-learn/scikit-learn/issues/21755 */display: inline-block !important;position: relative;}#sk-container-id-1 div.sk-text-repr-fallback {display: none;}</style><div id=\"sk-container-id-1\" class=\"sk-top-container\"><div class=\"sk-text-repr-fallback\"><pre>LogisticRegression()</pre><b>In a Jupyter environment, please rerun this cell to show the HTML representation or trust the notebook. <br />On GitHub, the HTML representation is unable to render, please try loading this page with nbviewer.org.</b></div><div class=\"sk-container\" hidden><div class=\"sk-item\"><div class=\"sk-estimator sk-toggleable\"><input class=\"sk-toggleable__control sk-hidden--visually\" id=\"sk-estimator-id-1\" type=\"checkbox\" checked><label for=\"sk-estimator-id-1\" class=\"sk-toggleable__label sk-toggleable__label-arrow\">LogisticRegression</label><div class=\"sk-toggleable__content\"><pre>LogisticRegression()</pre></div></div></div></div></div>"
      ],
      "text/plain": [
       "LogisticRegression()"
      ]
     },
     "execution_count": 27,
     "metadata": {},
     "output_type": "execute_result"
    }
   ],
   "source": [
    "#Initializing the model\n",
    "model = LogisticRegression()\n",
    "\n",
    "#Fitting the model\n",
    "model.fit(X_train, y_train)"
   ]
  },
  {
   "cell_type": "code",
   "execution_count": 28,
   "metadata": {},
   "outputs": [
    {
     "name": "stdout",
     "output_type": "stream",
     "text": [
      "Accuracy: 0.596019643318687\n",
      "\n",
      "Classification Report:\n",
      "               precision    recall  f1-score   support\n",
      "\n",
      "      female       0.61      0.63      0.62      2014\n",
      "        male       0.58      0.56      0.57      1855\n",
      "\n",
      "    accuracy                           0.60      3869\n",
      "   macro avg       0.60      0.59      0.59      3869\n",
      "weighted avg       0.60      0.60      0.60      3869\n",
      "\n"
     ]
    }
   ],
   "source": [
    "# Evaluate the performance of the model\n",
    "y_pred = model.predict(X_test)\n",
    "\n",
    "print(\"Accuracy:\", accuracy_score(y_test, y_pred))\n",
    "print(\"\\nClassification Report:\\n\", classification_report(y_test, y_pred))"
   ]
  },
  {
   "cell_type": "markdown",
   "metadata": {},
   "source": [
    "The Logistic Regression model delivered an overall accuracy of approximately 59.6%, correctly predicting the gender of the tweet author around 60% of the time. When dissecting the metrics, the precision suggests that the model's predictions for 'female' and 'male' authors are correct 61% and 58% of the time, respectively. On the recall front, it captured 63% of actual female authors and 56% of male authors. The F1-scores, a balance of precision and recall, are 0.62 for females and 0.57 for males. These metrics, while providing a decent start, set the stage for subsequent models to strive for enhancements, especially given that the performance across both classes is reasonably balanced."
   ]
  },
  {
   "cell_type": "markdown",
   "metadata": {},
   "source": [
    "#### Naive Bayes"
   ]
  },
  {
   "cell_type": "markdown",
   "metadata": {},
   "source": [
    "The Naive Bayes classifier is efficient and simple, making it a popular choice for text classification. It handles large numbers of features well, a common scenario with text data. Based on Bayes' theorem, it assumes each feature is independent, and while this might sound oversimplified, it often yields strong results in practice. Given its track record with text data and its computational efficiency, we're exploring the Naive Bayes classifier next."
   ]
  },
  {
   "cell_type": "code",
   "execution_count": 29,
   "metadata": {
    "scrolled": true
   },
   "outputs": [
    {
     "name": "stdout",
     "output_type": "stream",
     "text": [
      "Accuracy: 0.6022\n",
      "              precision    recall  f1-score   support\n",
      "\n",
      "      female       0.60      0.72      0.65      2014\n",
      "        male       0.61      0.48      0.54      1855\n",
      "\n",
      "    accuracy                           0.60      3869\n",
      "   macro avg       0.60      0.60      0.59      3869\n",
      "weighted avg       0.60      0.60      0.60      3869\n",
      "\n"
     ]
    }
   ],
   "source": [
    "# Initializing the model\n",
    "nb_classifier = MultinomialNB()\n",
    "\n",
    "# Training the model\n",
    "nb_classifier.fit(X_train, y_train)\n",
    "\n",
    "# Predicting the test set results\n",
    "y_pred = nb_classifier.predict(X_test)\n",
    "\n",
    "# Calculating accuracy\n",
    "accuracy = accuracy_score(y_test, y_pred)\n",
    "print(f\"Accuracy: {accuracy:.4f}\")\n",
    "\n",
    "# Printing the classification report\n",
    "print(classification_report(y_test, y_pred))"
   ]
  },
  {
   "cell_type": "markdown",
   "metadata": {},
   "source": [
    "The Naive Bayes model delivered an accuracy of 60.22%, which is marginally better than the baseline Logistic Regression's accuracy. However, when we delve deeper into the classification report, it's evident that while Naive Bayes did relatively well in classifying female tweets with a recall of 72%, its recall for male tweets was notably lower at 48%. This disparity means that the model struggled to accurately identify male tweets, misclassifying about half of them. The F1-scores also underline this performance gap, with 65% for female tweets versus 54% for male tweets. While the accuracy was slightly higher, the model's imbalanced performance makes it less consistent than our baseline. Given this, there's merit in exploring other models to identify a more balanced and robust classifier for this dataset."
   ]
  },
  {
   "cell_type": "markdown",
   "metadata": {},
   "source": [
    "#### Random Forest Classifier"
   ]
  },
  {
   "cell_type": "markdown",
   "metadata": {},
   "source": [
    "Random Forest is an ensemble learning method that works by constructing multiple decision trees during training and outputs the mode of the classes for classification. It's known for its high accuracy, ability to handle large data sets with higher dimensionality, and its ability to determine feature importance."
   ]
  },
  {
   "cell_type": "code",
   "execution_count": 30,
   "metadata": {},
   "outputs": [
    {
     "name": "stdout",
     "output_type": "stream",
     "text": [
      "Accuracy: 0.5892995606099768\n",
      "              precision    recall  f1-score   support\n",
      "\n",
      "      female       0.60      0.64      0.62      2014\n",
      "        male       0.58      0.54      0.56      1855\n",
      "\n",
      "    accuracy                           0.59      3869\n",
      "   macro avg       0.59      0.59      0.59      3869\n",
      "weighted avg       0.59      0.59      0.59      3869\n",
      "\n"
     ]
    }
   ],
   "source": [
    "rf_clf = RandomForestClassifier(n_estimators=100, random_state=42)\n",
    "rf_clf.fit(X_train, y_train)\n",
    "y_pred_rf = rf_clf.predict(X_test)\n",
    "\n",
    "# Evaluating the Random Forest model\n",
    "print(\"Accuracy:\", accuracy_score(y_test, y_pred_rf))\n",
    "print(classification_report(y_test, y_pred_rf))"
   ]
  },
  {
   "cell_type": "markdown",
   "metadata": {},
   "source": [
    "The Random Forest Classifier yielded an accuracy of approximately 58.93%. The precision, recall, and F1-score metrics for both the \"female\" and \"male\" classes are relatively balanced, but the overall performance is slightly lower than both the Logistic Regression and Naive Bayes models.\n",
    "\n",
    "Given these results, the Random Forest Classifier didn't offer a significant improvement for this particular dataset and task. It might be beneficial to explore other models, such as Support Vector Machines (SVM) or Gradient Boosted Trees, to see if they can outperform the baseline. Additionally, considering hyperparameter tuning and feature engineering can also help in enhancing the performance of the models."
   ]
  },
  {
   "cell_type": "markdown",
   "metadata": {},
   "source": [
    "#### Support Vector Machines (SVM)"
   ]
  },
  {
   "cell_type": "markdown",
   "metadata": {},
   "source": [
    "Support Vector Machines (SVM) are supervised machine learning models that can be used for both classification or regression challenges. They perform classification by finding the hyperplane that best divides a dataset into classes."
   ]
  },
  {
   "cell_type": "code",
   "execution_count": 31,
   "metadata": {},
   "outputs": [
    {
     "name": "stdout",
     "output_type": "stream",
     "text": [
      "Accuracy: 0.5942103902817265\n",
      "              precision    recall  f1-score   support\n",
      "\n",
      "      female       0.61      0.63      0.62      2014\n",
      "        male       0.58      0.56      0.57      1855\n",
      "\n",
      "    accuracy                           0.59      3869\n",
      "   macro avg       0.59      0.59      0.59      3869\n",
      "weighted avg       0.59      0.59      0.59      3869\n",
      "\n"
     ]
    }
   ],
   "source": [
    "svm_clf = SVC(kernel='linear', C=1)\n",
    "svm_clf.fit(X_train, y_train)\n",
    "y_pred_svm = svm_clf.predict(X_test)\n",
    "\n",
    "# Evaluating the SVM model\n",
    "print(\"Accuracy:\", accuracy_score(y_test, y_pred_svm))\n",
    "print(classification_report(y_test, y_pred_svm))"
   ]
  },
  {
   "cell_type": "markdown",
   "metadata": {},
   "source": [
    "The Support Vector Machine (SVM) classifier delivered an accuracy of approximately 59.42%. In terms of precision, recall, and F1-score, its performance is on par with the Logistic Regression and marginally better than the Random Forest Classifier. However, the Naive Bayes still maintains a slight edge over all other models tried so far in terms of accuracy.\n",
    "\n",
    "Thus, even though SVMs are powerful and versatile, for this particular dataset and problem, the SVM didn't provide a breakthrough in performance. Given the results obtained from the various classifiers, it might be worth investing time in hyperparameter tuning, considering ensemble methods, or delving deeper into feature engineering to potentially boost the model's accuracy."
   ]
  },
  {
   "cell_type": "markdown",
   "metadata": {},
   "source": [
    "#### Gradient Boosted Trees"
   ]
  },
  {
   "cell_type": "markdown",
   "metadata": {},
   "source": [
    "Gradient Boosting is an iterative technique which adjusts the weight of an observation based on the last classification. It improves model outcomes by reducing the bias."
   ]
  },
  {
   "cell_type": "code",
   "execution_count": 32,
   "metadata": {},
   "outputs": [
    {
     "name": "stdout",
     "output_type": "stream",
     "text": [
      "Accuracy: 0.5704316360816748\n",
      "              precision    recall  f1-score   support\n",
      "\n",
      "      female       0.58      0.61      0.60      2014\n",
      "        male       0.56      0.52      0.54      1855\n",
      "\n",
      "    accuracy                           0.57      3869\n",
      "   macro avg       0.57      0.57      0.57      3869\n",
      "weighted avg       0.57      0.57      0.57      3869\n",
      "\n"
     ]
    }
   ],
   "source": [
    "gb_clf = GradientBoostingClassifier(n_estimators=100, learning_rate=1.0, max_depth=1, random_state=42)\n",
    "gb_clf.fit(X_train, y_train)\n",
    "y_pred_gb = gb_clf.predict(X_test)\n",
    "\n",
    "# Evaluating the Gradient Boosted Trees model\n",
    "print(\"Accuracy:\", accuracy_score(y_test, y_pred_gb))\n",
    "print(classification_report(y_test, y_pred_gb))"
   ]
  },
  {
   "cell_type": "markdown",
   "metadata": {},
   "source": [
    "The Gradient Boosting (GBoost) model produced an accuracy of roughly 57.04%. Surprisingly, this ensemble technique, which typically performs quite well on a range of classification problems, didn't surpass the earlier models in performance. Specifically, its results were lower than the Logistic Regression, Naive Bayes, Random Forest, and SVM.\n",
    "\n",
    "Gradient Boosting focuses on minimizing errors from previous classifiers by adding new trees iteratively. Although powerful, it might be sensitive to noisy data or overfit if not properly tuned. This underscores the importance of hyperparameter tuning and feature engineering. Given the current standings, Naive Bayes still holds the lead in terms of accuracy, and further exploration and adjustments might be needed to fully harness the potential of models like GBoost."
   ]
  },
  {
   "cell_type": "code",
   "execution_count": 33,
   "metadata": {},
   "outputs": [
    {
     "data": {
      "image/png": "[encoded data removed]",
      "text/plain": [
       "<Figure size 1008x576 with 1 Axes>"
      ]
     },
     "metadata": {
      "needs_background": "light"
     },
     "output_type": "display_data"
    }
   ],
   "source": [
    "# Data\n",
    "models = ['LR', 'Naive Bayes', 'Random Forest', 'SVM', 'GBoost']\n",
    "accuracies = [0.5960, 0.6022, 0.5893, 0.5942, 0.5704]\n",
    "\n",
    "# Plot\n",
    "plt.figure(figsize=(14,8))\n",
    "plt.bar(models, accuracies, color=['blue', 'green', 'red', 'cyan', 'magenta'])\n",
    "plt.xlabel('Models')\n",
    "plt.ylabel('Accuracy')\n",
    "plt.title('Comparison of Model Accuracies')\n",
    "plt.ylim(0.55, 0.62)  # set the y-axis limits for better visualization\n",
    "plt.grid(axis='y')\n",
    "\n",
    "# Display the accuracy values on top of the bars\n",
    "for i in range(len(models)):\n",
    "    plt.text(i, accuracies[i] + 0.005, round(accuracies[i], 4), ha='center')\n",
    "\n",
    "plt.show()"
   ]
  },
  {
   "cell_type": "code",
   "execution_count": null,
   "metadata": {},
   "outputs": [],
   "source": []
  }
 ],
 "metadata": {
  "kernelspec": {
   "display_name": "Python (learn-env)",
   "language": "python",
   "name": "learn-env"
  },
  "language_info": {
   "codemirror_mode": {
    "name": "ipython",
    "version": 3
   },
   "file_extension": ".py",
   "mimetype": "text/x-python",
   "name": "python",
   "nbconvert_exporter": "python",
   "pygments_lexer": "ipython3",
   "version": "3.8.5"
  }
 },
 "nbformat": 4,
 "nbformat_minor": 4
}
